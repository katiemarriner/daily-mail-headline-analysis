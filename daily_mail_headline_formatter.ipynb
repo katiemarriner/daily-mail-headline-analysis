{
 "cells": [
  {
   "cell_type": "code",
   "execution_count": 1,
   "id": "3382f0a9-9cf9-4921-84aa-3c8f5c43a5b2",
   "metadata": {},
   "outputs": [],
   "source": [
    "import pandas as pd\n",
    "import requests\n",
    "from bs4 import BeautifulSoup\n",
    "import json\n",
    "import time\n",
    "import os"
   ]
  },
  {
   "cell_type": "code",
   "execution_count": 2,
   "id": "17fcbe07-88e4-4f7c-be8d-8fa96f8fcc87",
   "metadata": {},
   "outputs": [],
   "source": [
    "page_size = 50\n",
    "start_page = 10\n",
    "end_page = 20"
   ]
  },
  {
   "cell_type": "code",
   "execution_count": 3,
   "id": "0d60b8f2-163c-41d4-be00-f4d85720aec5",
   "metadata": {},
   "outputs": [],
   "source": [
    "endpoint = 'https://www.dailymail.co.uk/home/search.html'\n",
    "params = {\n",
    "    'offset': '0',\n",
    "    'size': str(page_size),\n",
    "    'sel': 'site',\n",
    "    'searchPhrase': '',\n",
    "    'sort': 'recent',\n",
    "    'channel': 'tvshowbiz',\n",
    "    'type': 'article',\n",
    "    'days': 'all'\n",
    "}"
   ]
  },
  {
   "cell_type": "code",
   "execution_count": 4,
   "id": "d0559182-93d7-4a76-b689-61dd0c83368f",
   "metadata": {},
   "outputs": [
    {
     "ename": "KeyboardInterrupt",
     "evalue": "",
     "output_type": "error",
     "traceback": [
      "\u001b[0;31m---------------------------------------------------------------------------\u001b[0m",
      "\u001b[0;31mKeyboardInterrupt\u001b[0m                         Traceback (most recent call last)",
      "\u001b[0;32m<ipython-input-4-bb7d0db00643>\u001b[0m in \u001b[0;36m<module>\u001b[0;34m\u001b[0m\n\u001b[1;32m      4\u001b[0m     \u001b[0mnew_r\u001b[0m \u001b[0;34m=\u001b[0m \u001b[0mrequests\u001b[0m\u001b[0;34m.\u001b[0m\u001b[0mget\u001b[0m\u001b[0;34m(\u001b[0m\u001b[0mendpoint\u001b[0m\u001b[0;34m,\u001b[0m \u001b[0mparams\u001b[0m\u001b[0;34m=\u001b[0m\u001b[0mparams\u001b[0m\u001b[0;34m)\u001b[0m\u001b[0;34m\u001b[0m\u001b[0;34m\u001b[0m\u001b[0m\n\u001b[1;32m      5\u001b[0m     \u001b[0mpage_content\u001b[0m\u001b[0;34m.\u001b[0m\u001b[0mappend\u001b[0m\u001b[0;34m(\u001b[0m\u001b[0mnew_r\u001b[0m\u001b[0;34m.\u001b[0m\u001b[0mtext\u001b[0m\u001b[0;34m)\u001b[0m\u001b[0;34m\u001b[0m\u001b[0;34m\u001b[0m\u001b[0m\n\u001b[0;32m----> 6\u001b[0;31m     \u001b[0mtime\u001b[0m\u001b[0;34m.\u001b[0m\u001b[0msleep\u001b[0m\u001b[0;34m(\u001b[0m\u001b[0;36m1\u001b[0m\u001b[0;34m)\u001b[0m\u001b[0;34m\u001b[0m\u001b[0;34m\u001b[0m\u001b[0m\n\u001b[0m",
      "\u001b[0;31mKeyboardInterrupt\u001b[0m: "
     ]
    }
   ],
   "source": [
    "page_content = []\n",
    "for page in range(start_page, end_page):\n",
    "    params['offset'] = str(page * page_size)\n",
    "    new_r = requests.get(endpoint, params=params)\n",
    "    page_content.append(new_r.text)\n",
    "    time.sleep(1)"
   ]
  },
  {
   "cell_type": "code",
   "execution_count": null,
   "id": "02e0776b-f482-4e11-b90f-2cf58b04e1a8",
   "metadata": {},
   "outputs": [],
   "source": [
    "end_page * page_size"
   ]
  },
  {
   "cell_type": "code",
   "execution_count": null,
   "id": "037ae072-be90-4aad-8ca2-03a78a84bf1a",
   "metadata": {},
   "outputs": [],
   "source": [
    "page_range = str(start_page * page_size) + '_' +str(end_page * page_size)"
   ]
  },
  {
   "cell_type": "code",
   "execution_count": 220,
   "id": "33a8c860-3a3a-4e8a-be42-58b3f7024c41",
   "metadata": {},
   "outputs": [
    {
     "data": {
      "text/plain": [
       "'500_1000'"
      ]
     },
     "execution_count": 220,
     "metadata": {},
     "output_type": "execute_result"
    }
   ],
   "source": [
    "page_range"
   ]
  },
  {
   "cell_type": "code",
   "execution_count": 221,
   "id": "63d946e5-fa25-4b11-84fb-5c43ed205584",
   "metadata": {},
   "outputs": [],
   "source": [
    "with open('saved_pages/%s.json' % page_range, 'w') as outfile:\n",
    "    json.dump(page_content, outfile)"
   ]
  },
  {
   "cell_type": "code",
   "execution_count": 9,
   "id": "d04bb31e-e4c0-4783-8208-a72787506a00",
   "metadata": {},
   "outputs": [],
   "source": [
    "files = os.listdir('saved_pages/')\n",
    "files.sort()"
   ]
  },
  {
   "cell_type": "code",
   "execution_count": 90,
   "id": "824bce44-778b-4c65-ab51-b91f0e5a87e9",
   "metadata": {},
   "outputs": [],
   "source": [
    "files = ['200000_250000.json','150000_200000.json']"
   ]
  },
  {
   "cell_type": "code",
   "execution_count": 91,
   "id": "5efe90e9-9656-4535-8681-554c9241f3e9",
   "metadata": {},
   "outputs": [],
   "source": [
    "loaded_html = []\n",
    "for file in files:\n",
    "    with open('saved_pages/%s' % file, 'r') as infile:\n",
    "        d = json.load(infile)\n",
    "        loaded_html = loaded_html + d"
   ]
  },
  {
   "cell_type": "code",
   "execution_count": 92,
   "id": "ce21d9a1-66a7-463d-89c1-b48f997b3f90",
   "metadata": {},
   "outputs": [],
   "source": [
    "article_bs = []\n",
    "for html in loaded_html:\n",
    "    bs = BeautifulSoup(html)\n",
    "    div_sch_result = bs.find_all('div', class_='sch-result')\n",
    "    article_bs = article_bs + div_sch_result"
   ]
  },
  {
   "cell_type": "code",
   "execution_count": 93,
   "id": "38bb8d9f-54b6-4810-9976-e385a43dd015",
   "metadata": {},
   "outputs": [],
   "source": [
    "headline_list = []\n",
    "for bs_obj in article_bs:\n",
    "    h3 = bs_obj.find('h3', class_='sch-res-title')\n",
    "    h4 = bs_obj.find('h4')\n",
    "    a = h4.find('a').text if h4.find('a') != None else h4.text\n",
    "    split = h4.text.split(' -')\n",
    "    date = split[1] if len(split) > 1 else h4.text\n",
    "\n",
    "    obj = {\n",
    "        'headline_text': h3.text,\n",
    "        'article_url': h3.find('a')['href'],\n",
    "        'article_preview': bs_obj.find('p', class_='sch-res-preview').text,\n",
    "        'date': date,\n",
    "        'author': a\n",
    "    }\n",
    "    headline_list.append(obj)"
   ]
  },
  {
   "cell_type": "code",
   "execution_count": 94,
   "id": "ba4561fc-b049-4ad9-83e3-b1ff38ec86cb",
   "metadata": {},
   "outputs": [],
   "source": [
    "df = pd.DataFrame(headline_list)"
   ]
  },
  {
   "cell_type": "code",
   "execution_count": 95,
   "id": "f7b4bae8-6c0d-4ea4-8c8e-3f99c39dd25e",
   "metadata": {},
   "outputs": [],
   "source": [
    "df = df.drop_duplicates()"
   ]
  },
  {
   "cell_type": "code",
   "execution_count": 96,
   "id": "6957dec6-7692-4e8f-b23b-fc13f1bc3e99",
   "metadata": {},
   "outputs": [],
   "source": [
    "df['date'] = df['date'].str.strip()"
   ]
  },
  {
   "cell_type": "code",
   "execution_count": 97,
   "id": "d32cf4ac-3b1e-4e97-b630-88aa0ef4ec1b",
   "metadata": {},
   "outputs": [],
   "source": [
    "def replace(old, new):\n",
    "    return df['date'].str.replace(old, new)"
   ]
  },
  {
   "cell_type": "code",
   "execution_count": 98,
   "id": "970cb107-cff9-4c11-8932-49c5a95af327",
   "metadata": {},
   "outputs": [],
   "source": [
    "for i in [['\\n', ''], ['th', ''], ['nd',''], ['rd',''], ['st', ''],['Augu ', 'August ']]:\n",
    "    df['date'] = replace(i[0], i[1])"
   ]
  },
  {
   "cell_type": "code",
   "execution_count": 99,
   "id": "5acbfd27-f61e-434c-8831-e9ce713de663",
   "metadata": {},
   "outputs": [],
   "source": [
    "df['date'] = pd.to_datetime(df['date'], format='%B %d %Y, %I:%M:%S %p')"
   ]
  },
  {
   "cell_type": "code",
   "execution_count": 100,
   "id": "75939092-c85d-48f8-af28-ecd35c4317c7",
   "metadata": {},
   "outputs": [],
   "source": [
    "df = df.sort_values('date')"
   ]
  },
  {
   "cell_type": "code",
   "execution_count": 101,
   "id": "6b06640b-ab0a-4365-b84e-00a869342c7d",
   "metadata": {},
   "outputs": [],
   "source": [
    "start = str(df['date'].min())\n",
    "end = str(df['date'].max())"
   ]
  },
  {
   "cell_type": "code",
   "execution_count": 102,
   "id": "ee86dc2d-9fc9-4c87-9c3a-a53884322d13",
   "metadata": {},
   "outputs": [
    {
     "data": {
      "text/plain": [
       "('2018-11-13 10:29:15', '2020-02-05 09:38:59')"
      ]
     },
     "execution_count": 102,
     "metadata": {},
     "output_type": "execute_result"
    }
   ],
   "source": [
    "start, end"
   ]
  },
  {
   "cell_type": "code",
   "execution_count": 103,
   "id": "85c0b9e8-155b-4cd7-961a-9535cb4f5a74",
   "metadata": {},
   "outputs": [],
   "source": [
    "df.to_csv('saved_headlines/%s to %s.csv' % (start, end), index=False)"
   ]
  },
  {
   "cell_type": "code",
   "execution_count": null,
   "id": "f1b3293c-2fb8-4b51-96d9-22f066824967",
   "metadata": {},
   "outputs": [],
   "source": []
  }
 ],
 "metadata": {
  "kernelspec": {
   "display_name": "Python 3",
   "language": "python",
   "name": "python3"
  },
  "language_info": {
   "codemirror_mode": {
    "name": "ipython",
    "version": 3
   },
   "file_extension": ".py",
   "mimetype": "text/x-python",
   "name": "python",
   "nbconvert_exporter": "python",
   "pygments_lexer": "ipython3",
   "version": "3.8.10"
  }
 },
 "nbformat": 4,
 "nbformat_minor": 5
}
