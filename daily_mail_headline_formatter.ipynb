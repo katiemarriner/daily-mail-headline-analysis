{
 "cells": [
  {
   "cell_type": "markdown",
   "id": "cc93d37e-f102-4ee0-bccf-749309d74ff2",
   "metadata": {},
   "source": [
    "# Get new headlines from Daily Mail and save to one file"
   ]
  },
  {
   "cell_type": "code",
   "execution_count": 1,
   "id": "3382f0a9-9cf9-4921-84aa-3c8f5c43a5b2",
   "metadata": {},
   "outputs": [],
   "source": [
    "import pandas as pd\n",
    "import requests\n",
    "from bs4 import BeautifulSoup\n",
    "import json\n",
    "import time\n",
    "import os\n",
    "import glob"
   ]
  },
  {
   "cell_type": "markdown",
   "id": "b6114c45-06e7-4ee0-bc50-ff5cf0191b47",
   "metadata": {},
   "source": [
    "1. [Get new headlines](#Get-new-headlines)\n",
    "    1. [Parameters for Daily Mail search]()\n",
    "    1. [Get new Daily Mail search pages]()\n",
    "    1. Extract headlines using Beautiful Soup\n",
    "    1. Format dates\n",
    "    1. Save new headline data\n",
    "1. [Save all headlines to one file and delete duplicates](#Save-all-headlines-to-one-file-and-delete-duplicates)"
   ]
  },
  {
   "cell_type": "markdown",
   "id": "e8cdcc79-913f-4cac-bf5d-0d223f1b7ee4",
   "metadata": {},
   "source": [
    "## Get new headlines"
   ]
  },
  {
   "cell_type": "markdown",
   "id": "f46fc58c-d19c-41fa-a0a0-754a06b3afae",
   "metadata": {},
   "source": [
    "### Parameters for Daily Mail search"
   ]
  },
  {
   "cell_type": "code",
   "execution_count": 162,
   "id": "17fcbe07-88e4-4f7c-be8d-8fa96f8fcc87",
   "metadata": {},
   "outputs": [],
   "source": [
    "# custom\n",
    "page_size = 50\n",
    "start_page = 400\n",
    "end_page = 425"
   ]
  },
  {
   "cell_type": "code",
   "execution_count": 163,
   "id": "0d60b8f2-163c-41d4-be00-f4d85720aec5",
   "metadata": {},
   "outputs": [],
   "source": [
    "# default\n",
    "endpoint = 'https://www.dailymail.co.uk/home/search.html'\n",
    "params = {\n",
    "    'offset': '0',\n",
    "    'size': str(page_size),\n",
    "    'sel': 'site',\n",
    "    'searchPhrase': '',\n",
    "    'sort': 'recent',\n",
    "    'channel': 'tvshowbiz',\n",
    "    'type': 'article',\n",
    "    'days': 'all'\n",
    "}"
   ]
  },
  {
   "cell_type": "markdown",
   "id": "6ccb1cdd-602e-42e3-a8e5-a1fc6a4efd5a",
   "metadata": {},
   "source": [
    "### Get new Daily Mail search pages"
   ]
  },
  {
   "cell_type": "code",
   "execution_count": 164,
   "id": "d0559182-93d7-4a76-b689-61dd0c83368f",
   "metadata": {},
   "outputs": [],
   "source": [
    "page_content = []\n",
    "for page in range(start_page, end_page):\n",
    "    params['offset'] = str(page * page_size)\n",
    "    new_r = requests.get(endpoint, params=params)\n",
    "    page_content.append(new_r.text)\n",
    "    time.sleep(1)"
   ]
  },
  {
   "cell_type": "code",
   "execution_count": 165,
   "id": "02e0776b-f482-4e11-b90f-2cf58b04e1a8",
   "metadata": {},
   "outputs": [
    {
     "data": {
      "text/plain": [
       "1250"
      ]
     },
     "execution_count": 165,
     "metadata": {},
     "output_type": "execute_result"
    }
   ],
   "source": [
    "# number of new records\n",
    "(end_page - start_page) * page_size"
   ]
  },
  {
   "cell_type": "markdown",
   "id": "52f54788-9d56-4ffd-85b9-c48a5d24a2aa",
   "metadata": {},
   "source": [
    "### Extract headlines using Beautiful Soup"
   ]
  },
  {
   "cell_type": "code",
   "execution_count": 166,
   "id": "ce21d9a1-66a7-463d-89c1-b48f997b3f90",
   "metadata": {},
   "outputs": [],
   "source": [
    "article_bs = []\n",
    "for html in page_content:\n",
    "    bs = BeautifulSoup(html)\n",
    "    div_sch_result = bs.find_all('div', class_='sch-result')\n",
    "    article_bs = article_bs + div_sch_result"
   ]
  },
  {
   "cell_type": "code",
   "execution_count": 167,
   "id": "38bb8d9f-54b6-4810-9976-e385a43dd015",
   "metadata": {},
   "outputs": [],
   "source": [
    "headline_list = []\n",
    "for bs_obj in article_bs:\n",
    "    h3 = bs_obj.find('h3', class_='sch-res-title')\n",
    "    h4 = bs_obj.find('h4')\n",
    "    a = h4.find('a').text if h4.find('a') != None else h4.text\n",
    "    split = h4.text.split(' -')\n",
    "    date = split[1] if len(split) > 1 else h4.text\n",
    "\n",
    "    obj = {\n",
    "        'headline_text': h3.text,\n",
    "        'article_url': h3.find('a')['href'],\n",
    "        'article_preview': bs_obj.find('p', class_='sch-res-preview').text,\n",
    "        'date': date,\n",
    "        'author': a\n",
    "    }\n",
    "    headline_list.append(obj)"
   ]
  },
  {
   "cell_type": "markdown",
   "id": "7aa21089-5ca3-4bf6-9322-7261a17cae68",
   "metadata": {},
   "source": [
    "### Format dates"
   ]
  },
  {
   "cell_type": "code",
   "execution_count": 168,
   "id": "ba4561fc-b049-4ad9-83e3-b1ff38ec86cb",
   "metadata": {},
   "outputs": [],
   "source": [
    "df = pd.DataFrame(headline_list)\n",
    "df = df.drop_duplicates()\n",
    "df['date'] = df['date'].str.strip()"
   ]
  },
  {
   "cell_type": "code",
   "execution_count": 169,
   "id": "d32cf4ac-3b1e-4e97-b630-88aa0ef4ec1b",
   "metadata": {},
   "outputs": [],
   "source": [
    "def replace(old, new):\n",
    "    return df['date'].str.replace(old, new)"
   ]
  },
  {
   "cell_type": "code",
   "execution_count": 170,
   "id": "970cb107-cff9-4c11-8932-49c5a95af327",
   "metadata": {},
   "outputs": [],
   "source": [
    "for i in [['\\n', ''], ['th', ''], ['nd',''], ['rd',''], ['st', ''],['Augu ', 'August ']]:\n",
    "    df['date'] = replace(i[0], i[1])"
   ]
  },
  {
   "cell_type": "code",
   "execution_count": 171,
   "id": "5acbfd27-f61e-434c-8831-e9ce713de663",
   "metadata": {},
   "outputs": [],
   "source": [
    "df['date'] = pd.to_datetime(df['date'], format='%B %d %Y, %I:%M:%S %p')\n",
    "df = df.sort_values('date')"
   ]
  },
  {
   "cell_type": "code",
   "execution_count": 172,
   "id": "6b06640b-ab0a-4365-b84e-00a869342c7d",
   "metadata": {},
   "outputs": [],
   "source": [
    "start = str(df['date'].min())\n",
    "end = str(df['date'].max())"
   ]
  },
  {
   "cell_type": "markdown",
   "id": "14eb9863-16f0-42eb-b0e0-fcef3c4b9e1b",
   "metadata": {},
   "source": [
    "### Save new headline data"
   ]
  },
  {
   "cell_type": "code",
   "execution_count": 173,
   "id": "ee86dc2d-9fc9-4c87-9c3a-a53884322d13",
   "metadata": {},
   "outputs": [
    {
     "data": {
      "text/plain": [
       "('2022-01-26 12:25:27', '2022-02-02 01:12:40')"
      ]
     },
     "execution_count": 173,
     "metadata": {},
     "output_type": "execute_result"
    }
   ],
   "source": [
    "start, end"
   ]
  },
  {
   "cell_type": "code",
   "execution_count": 174,
   "id": "85c0b9e8-155b-4cd7-961a-9535cb4f5a74",
   "metadata": {},
   "outputs": [],
   "source": [
    "df.to_csv('saved_headlines/%s to %s.csv' % (start, end), index=False)"
   ]
  },
  {
   "cell_type": "markdown",
   "id": "c16322dc-3011-46d8-9400-ce1a0da8b88d",
   "metadata": {},
   "source": [
    "## Save all headlines to one file and delete duplicates"
   ]
  },
  {
   "cell_type": "code",
   "execution_count": 175,
   "id": "430250c7-992b-4039-94be-13c63fc7c038",
   "metadata": {},
   "outputs": [],
   "source": [
    "files = glob.glob('saved_headlines/*.csv')"
   ]
  },
  {
   "cell_type": "code",
   "execution_count": 176,
   "id": "5b757467-6d25-45df-b2ad-20751c52cbb2",
   "metadata": {},
   "outputs": [
    {
     "data": {
      "text/plain": [
       "['saved_headlines/2022-04-18 22:34:33 to 2022-05-13 15:43:28.csv',\n",
       " 'saved_headlines/2022-02-02 01:12:40 to 2022-02-14 18:35:11.csv',\n",
       " 'saved_headlines/2022-02-14 18:38:57 to 2022-02-27 11:09:40.csv',\n",
       " 'saved_headlines/2022-01-30 04:33:49 to 2022-02-01 01:22:44.csv',\n",
       " 'saved_headlines/2022-02-01 01:25:16 to 2022-02-05 22:32:44.csv',\n",
       " 'saved_headlines/2022-02-27 11:09:40 to 2022-04-18 22:34:33.csv',\n",
       " 'saved_headlines/2022-01-20 04:18:14 to 2022-01-26 12:19:01.csv',\n",
       " 'saved_headlines/2022-01-22 22:06:19 to 2022-01-26 00:24:44.csv',\n",
       " 'saved_headlines/2022-01-26 12:25:27 to 2022-02-02 01:12:40.csv']"
      ]
     },
     "execution_count": 176,
     "metadata": {},
     "output_type": "execute_result"
    }
   ],
   "source": [
    "files"
   ]
  },
  {
   "cell_type": "code",
   "execution_count": 177,
   "id": "4e7c567f-52f2-47a3-aa0d-b277ac0ffd5e",
   "metadata": {},
   "outputs": [],
   "source": [
    "df = pd.concat([pd.read_csv(file) for file in files])"
   ]
  },
  {
   "cell_type": "code",
   "execution_count": 178,
   "id": "fa5289a0-0431-451e-83dd-6e34071d433d",
   "metadata": {},
   "outputs": [
    {
     "data": {
      "text/plain": [
       "24491"
      ]
     },
     "execution_count": 178,
     "metadata": {},
     "output_type": "execute_result"
    }
   ],
   "source": [
    "len(df)"
   ]
  },
  {
   "cell_type": "code",
   "execution_count": 179,
   "id": "323bbf51-cb9a-4e85-b0d2-de6b59a9ae90",
   "metadata": {},
   "outputs": [],
   "source": [
    "df = df.drop_duplicates()"
   ]
  },
  {
   "cell_type": "code",
   "execution_count": 180,
   "id": "dd985916-5745-47af-8f95-6fae6f3e7310",
   "metadata": {},
   "outputs": [
    {
     "data": {
      "text/plain": [
       "22497"
      ]
     },
     "execution_count": 180,
     "metadata": {},
     "output_type": "execute_result"
    }
   ],
   "source": [
    "len(df)"
   ]
  },
  {
   "cell_type": "code",
   "execution_count": 181,
   "id": "37036ec3-385d-4e68-8acc-f2f2f6107ff2",
   "metadata": {},
   "outputs": [],
   "source": [
    "df = df.sort_values('date')"
   ]
  },
  {
   "cell_type": "code",
   "execution_count": 182,
   "id": "4d3dca5a-7700-4fd7-9452-416158edd650",
   "metadata": {},
   "outputs": [],
   "source": [
    "start = str(df['date'].min())\n",
    "end = str(df['date'].max())"
   ]
  },
  {
   "cell_type": "code",
   "execution_count": 183,
   "id": "577921c0-cd7e-4973-ac7a-71bf15fa9b1d",
   "metadata": {},
   "outputs": [
    {
     "data": {
      "text/plain": [
       "('2022-01-20 04:18:14', '2022-05-13 15:43:28')"
      ]
     },
     "execution_count": 183,
     "metadata": {},
     "output_type": "execute_result"
    }
   ],
   "source": [
    "start, end"
   ]
  },
  {
   "cell_type": "code",
   "execution_count": 184,
   "id": "082ca8c7-5fe8-4f95-bd90-9dcc574711b5",
   "metadata": {},
   "outputs": [
    {
     "name": "stdout",
     "output_type": "stream",
     "text": [
      "zsh:1: no matches found: complete_headline_list/*\n"
     ]
    }
   ],
   "source": [
    "# replace old main file\n",
    "!rm -r complete_headline_list/*"
   ]
  },
  {
   "cell_type": "code",
   "execution_count": 185,
   "id": "644c0574-d715-41fc-853a-9895f2e77af3",
   "metadata": {},
   "outputs": [],
   "source": [
    "df.to_csv('complete_headline_list/%s to %s.csv' % (start, end), index=False)"
   ]
  },
  {
   "cell_type": "code",
   "execution_count": null,
   "id": "9277e501-54c5-44d5-85ce-8e9ffec292f8",
   "metadata": {},
   "outputs": [],
   "source": []
  }
 ],
 "metadata": {
  "kernelspec": {
   "display_name": "Python 3",
   "language": "python",
   "name": "python3"
  },
  "language_info": {
   "codemirror_mode": {
    "name": "ipython",
    "version": 3
   },
   "file_extension": ".py",
   "mimetype": "text/x-python",
   "name": "python",
   "nbconvert_exporter": "python",
   "pygments_lexer": "ipython3",
   "version": "3.8.10"
  }
 },
 "nbformat": 4,
 "nbformat_minor": 5
}
