{
 "cells": [
  {
   "cell_type": "code",
   "execution_count": 37,
   "id": "3382f0a9-9cf9-4921-84aa-3c8f5c43a5b2",
   "metadata": {},
   "outputs": [],
   "source": [
    "import pandas as pd\n",
    "import requests\n",
    "from bs4 import BeautifulSoup\n",
    "import json\n",
    "import time\n",
    "import os\n",
    "import glob\n",
    "import string\n",
    "import re"
   ]
  },
  {
   "cell_type": "markdown",
   "id": "7bdde4f0-efc6-456d-bad2-a0d08ba850e6",
   "metadata": {},
   "source": [
    "Save all headlines to one file and delete duplicates"
   ]
  },
  {
   "cell_type": "code",
   "execution_count": 11,
   "id": "cf70cdb6-0524-4afa-a340-767672444883",
   "metadata": {},
   "outputs": [],
   "source": [
    "files = glob.glob('saved_headlines/*.csv')"
   ]
  },
  {
   "cell_type": "code",
   "execution_count": 12,
   "id": "1c3959ff-92d9-4e7f-8642-3afe17fd6cc4",
   "metadata": {},
   "outputs": [
    {
     "data": {
      "text/plain": [
       "['saved_headlines/2018-11-13 10:29:15 to 2020-02-05 09:38:59.csv',\n",
       " 'saved_headlines/2021-10-04 06:49:57 to 2022-01-14 02:18:40.csv',\n",
       " 'saved_headlines/2021-12-31 12:10:16 to 2022-01-20 16:47:50.csv',\n",
       " 'saved_headlines/2020-09-24 21:29:05 to 2021-10-04 06:57:50.csv',\n",
       " 'saved_headlines/2020-02-05 09:14:28 to 2020-09-24 21:37:29.csv',\n",
       " 'saved_headlines/2022-01-20 16:53:47 to 2022-01-25 22:00:55.csv']"
      ]
     },
     "execution_count": 12,
     "metadata": {},
     "output_type": "execute_result"
    }
   ],
   "source": [
    "files"
   ]
  },
  {
   "cell_type": "code",
   "execution_count": 13,
   "id": "84620ce8-6ab7-45b0-a5dc-ad20464d6fc3",
   "metadata": {},
   "outputs": [],
   "source": [
    "df = pd.concat([pd.read_csv(file) for file in files])"
   ]
  },
  {
   "cell_type": "code",
   "execution_count": 14,
   "id": "17511d98-2249-4444-af76-941cc4a3d967",
   "metadata": {},
   "outputs": [
    {
     "data": {
      "text/plain": [
       "255028"
      ]
     },
     "execution_count": 14,
     "metadata": {},
     "output_type": "execute_result"
    }
   ],
   "source": [
    "len(df)"
   ]
  },
  {
   "cell_type": "code",
   "execution_count": 22,
   "id": "3182cdde-f37c-457b-885d-488450430442",
   "metadata": {},
   "outputs": [],
   "source": [
    "df = df.drop_duplicates()"
   ]
  },
  {
   "cell_type": "code",
   "execution_count": 23,
   "id": "cb1acb3f-77a3-4c47-8582-c6dbbeaa2523",
   "metadata": {},
   "outputs": [
    {
     "data": {
      "text/plain": [
       "252391"
      ]
     },
     "execution_count": 23,
     "metadata": {},
     "output_type": "execute_result"
    }
   ],
   "source": [
    "len(df)"
   ]
  },
  {
   "cell_type": "code",
   "execution_count": 32,
   "id": "0deabadf-4e2a-4b90-ab60-b845c4a837ef",
   "metadata": {},
   "outputs": [],
   "source": [
    "df = df.sort_values('date')"
   ]
  },
  {
   "cell_type": "code",
   "execution_count": 33,
   "id": "3890dd1a-883e-4428-98e3-6e10a39f5d71",
   "metadata": {},
   "outputs": [],
   "source": [
    "start = str(df['date'].min())\n",
    "end = str(df['date'].max())"
   ]
  },
  {
   "cell_type": "code",
   "execution_count": 34,
   "id": "7de2bb79-2edd-4913-95c0-79b0cf570932",
   "metadata": {},
   "outputs": [
    {
     "data": {
      "text/plain": [
       "('2018-11-13 10:29:15', '2022-01-25 22:00:55')"
      ]
     },
     "execution_count": 34,
     "metadata": {},
     "output_type": "execute_result"
    }
   ],
   "source": [
    "start, end"
   ]
  },
  {
   "cell_type": "code",
   "execution_count": 35,
   "id": "85c0b9e8-155b-4cd7-961a-9535cb4f5a74",
   "metadata": {},
   "outputs": [],
   "source": [
    "df.to_csv('complete_headline_list/%s to %s.csv' % (start, end), index=False)"
   ]
  },
  {
   "cell_type": "markdown",
   "id": "551185c2-77e2-4fc4-a81d-47d84d5879de",
   "metadata": {},
   "source": [
    "Clean data"
   ]
  },
  {
   "cell_type": "code",
   "execution_count": 38,
   "id": "660a29bc-c027-4f25-9a29-95a5783b5e50",
   "metadata": {},
   "outputs": [],
   "source": [
    "regex = re.compile('[%s]' % re.escape(string.punctuation))"
   ]
  },
  {
   "cell_type": "code",
   "execution_count": 54,
   "id": "7fdc5aae-1e1a-477e-88a8-8084fd7f958e",
   "metadata": {},
   "outputs": [],
   "source": [
    "def cleaner(df, col, new_col):\n",
    "    df[new_col] = df[col].str.lower()\n",
    "    df[new_col] = df[new_col].str.strip()\n",
    "    df[new_col] = df[new_col].str.replace(regex, '')\n",
    "    df[new_col] = df[new_col].str.strip()\n",
    "    return df"
   ]
  },
  {
   "cell_type": "code",
   "execution_count": 55,
   "id": "8d650c26-d4fb-461f-982c-41acf5f0cae8",
   "metadata": {},
   "outputs": [],
   "source": [
    "df = cleaner(df, 'headline_text', 'headline_clean')"
   ]
  },
  {
   "cell_type": "code",
   "execution_count": 57,
   "id": "52367c53-fc46-42c5-b095-452e68f86ddf",
   "metadata": {},
   "outputs": [],
   "source": [
    "df = cleaner(df, 'article_preview', 'preview_clean')"
   ]
  },
  {
   "cell_type": "code",
   "execution_count": 59,
   "id": "43f5e3a1-df03-479b-9ff4-7fb9f4a33140",
   "metadata": {},
   "outputs": [],
   "source": [
    "# df"
   ]
  },
  {
   "cell_type": "code",
   "execution_count": null,
   "id": "0f024712-261d-46e3-ba85-303c79a5f0c0",
   "metadata": {},
   "outputs": [],
   "source": []
  }
 ],
 "metadata": {
  "kernelspec": {
   "display_name": "Python 3",
   "language": "python",
   "name": "python3"
  },
  "language_info": {
   "codemirror_mode": {
    "name": "ipython",
    "version": 3
   },
   "file_extension": ".py",
   "mimetype": "text/x-python",
   "name": "python",
   "nbconvert_exporter": "python",
   "pygments_lexer": "ipython3",
   "version": "3.8.10"
  }
 },
 "nbformat": 4,
 "nbformat_minor": 5
}
