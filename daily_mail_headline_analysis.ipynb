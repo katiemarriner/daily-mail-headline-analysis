{
 "cells": [
  {
   "cell_type": "code",
   "execution_count": 31,
   "id": "3382f0a9-9cf9-4921-84aa-3c8f5c43a5b2",
   "metadata": {},
   "outputs": [],
   "source": [
    "import pandas as pd\n",
    "import requests\n",
    "from bs4 import BeautifulSoup\n",
    "import json"
   ]
  },
  {
   "cell_type": "code",
   "execution_count": 110,
   "id": "17fcbe07-88e4-4f7c-be8d-8fa96f8fcc87",
   "metadata": {},
   "outputs": [],
   "source": [
    "page_size = 50\n",
    "start_page = 400\n",
    "end_page = 500"
   ]
  },
  {
   "cell_type": "code",
   "execution_count": 111,
   "id": "0d60b8f2-163c-41d4-be00-f4d85720aec5",
   "metadata": {},
   "outputs": [],
   "source": [
    "endpoint = 'https://www.dailymail.co.uk/home/search.html'\n",
    "params = {\n",
    "    'offset': '0',\n",
    "    'size': str(page_size),\n",
    "    'sel': 'site',\n",
    "    'searchPhrase': '',\n",
    "    'sort': 'recent',\n",
    "    'channel': 'tvshowbiz',\n",
    "    'type': 'article',\n",
    "    'days': 'all'\n",
    "}"
   ]
  },
  {
   "cell_type": "code",
   "execution_count": 112,
   "id": "d0559182-93d7-4a76-b689-61dd0c83368f",
   "metadata": {},
   "outputs": [],
   "source": [
    "page_content = []\n",
    "for page in range(start_page, end_page):\n",
    "    params['offset'] = str(page * page_size)\n",
    "    new_r = requests.get(endpoint, params=params)\n",
    "    page_content.append(new_r.text)"
   ]
  },
  {
   "cell_type": "code",
   "execution_count": 113,
   "id": "02e0776b-f482-4e11-b90f-2cf58b04e1a8",
   "metadata": {},
   "outputs": [
    {
     "data": {
      "text/plain": [
       "25000"
      ]
     },
     "execution_count": 113,
     "metadata": {},
     "output_type": "execute_result"
    }
   ],
   "source": [
    "end_page * page_size"
   ]
  },
  {
   "cell_type": "code",
   "execution_count": 114,
   "id": "037ae072-be90-4aad-8ca2-03a78a84bf1a",
   "metadata": {},
   "outputs": [],
   "source": [
    "page_range = str(start_page * page_size) + '_' +str(end_page * page_size)"
   ]
  },
  {
   "cell_type": "code",
   "execution_count": 115,
   "id": "33a8c860-3a3a-4e8a-be42-58b3f7024c41",
   "metadata": {},
   "outputs": [
    {
     "data": {
      "text/plain": [
       "'20000_25000'"
      ]
     },
     "execution_count": 115,
     "metadata": {},
     "output_type": "execute_result"
    }
   ],
   "source": [
    "page_range"
   ]
  },
  {
   "cell_type": "code",
   "execution_count": 116,
   "id": "c536d4e3-4727-4b21-a082-152c8f31b315",
   "metadata": {},
   "outputs": [],
   "source": [
    "with open('saved_pages/%s.json' % page_range, 'w') as outfile:\n",
    "    json.dump(page_content, outfile)"
   ]
  },
  {
   "cell_type": "code",
   "execution_count": 117,
   "id": "5efe90e9-9656-4535-8681-554c9241f3e9",
   "metadata": {},
   "outputs": [],
   "source": [
    "with open('saved_pages/%s.json' % page_range, 'r') as infile:\n",
    "    d = json.load(infile)"
   ]
  },
  {
   "cell_type": "code",
   "execution_count": 118,
   "id": "ce21d9a1-66a7-463d-89c1-b48f997b3f90",
   "metadata": {},
   "outputs": [],
   "source": [
    "for html in d:\n",
    "    bs = BeautifulSoup(html)\n",
    "    div_sch_result = bs.find_all('div', class_='sch-result')\n",
    "    article_bs = article_bs + div_sch_result"
   ]
  },
  {
   "cell_type": "code",
   "execution_count": 119,
   "id": "4abe7ade-ca95-483e-87de-f976be28e571",
   "metadata": {},
   "outputs": [
    {
     "data": {
      "text/plain": [
       "25000"
      ]
     },
     "execution_count": 119,
     "metadata": {},
     "output_type": "execute_result"
    }
   ],
   "source": [
    "len(article_bs)"
   ]
  },
  {
   "cell_type": "code",
   "execution_count": 120,
   "id": "38bb8d9f-54b6-4810-9976-e385a43dd015",
   "metadata": {},
   "outputs": [],
   "source": [
    "headline_list = []\n",
    "for bs_obj in article_bs:\n",
    "    h3 = bs_obj.find('h3', class_='sch-res-title')\n",
    "    h4 = bs_obj.find('h4')\n",
    "    a = h4.find('a').text if h4.find('a') != None else h4.text\n",
    "    split = h4.text.split(' -')\n",
    "    date = split[1] if len(split) > 1 else h4.text\n",
    "\n",
    "    obj = {\n",
    "        'headline_text': h3.text,\n",
    "        'article_url': h3.find('a')['href'],\n",
    "        'article_preview': bs_obj.find('p', class_='sch-res-preview').text,\n",
    "        'date': date,\n",
    "        'author': a\n",
    "    }\n",
    "    headline_list.append(obj)"
   ]
  },
  {
   "cell_type": "code",
   "execution_count": 121,
   "id": "ba4561fc-b049-4ad9-83e3-b1ff38ec86cb",
   "metadata": {},
   "outputs": [],
   "source": [
    "df = pd.DataFrame(headline_list)"
   ]
  },
  {
   "cell_type": "code",
   "execution_count": 122,
   "id": "f7b4bae8-6c0d-4ea4-8c8e-3f99c39dd25e",
   "metadata": {},
   "outputs": [],
   "source": [
    "df = df.drop_duplicates()"
   ]
  },
  {
   "cell_type": "code",
   "execution_count": 124,
   "id": "ee7ff2d1-0fe3-4a80-b05f-817df3279053",
   "metadata": {},
   "outputs": [
    {
     "data": {
      "text/plain": [
       "24960"
      ]
     },
     "execution_count": 124,
     "metadata": {},
     "output_type": "execute_result"
    }
   ],
   "source": [
    "len(df['date'].unique())"
   ]
  },
  {
   "cell_type": "code",
   "execution_count": 126,
   "id": "85c0b9e8-155b-4cd7-961a-9535cb4f5a74",
   "metadata": {},
   "outputs": [],
   "source": [
    "df.to_csv('saved_headlines/2021-09-09 16:17:40  2021-01-12 17:36:20.csv')"
   ]
  },
  {
   "cell_type": "code",
   "execution_count": 109,
   "id": "eb854ff3-1a11-4ef6-8aa5-f51a2dc5ad6b",
   "metadata": {},
   "outputs": [
    {
     "data": {
      "text/html": [
       "<div>\n",
       "<style scoped>\n",
       "    .dataframe tbody tr th:only-of-type {\n",
       "        vertical-align: middle;\n",
       "    }\n",
       "\n",
       "    .dataframe tbody tr th {\n",
       "        vertical-align: top;\n",
       "    }\n",
       "\n",
       "    .dataframe thead th {\n",
       "        text-align: right;\n",
       "    }\n",
       "</style>\n",
       "<table border=\"1\" class=\"dataframe\">\n",
       "  <thead>\n",
       "    <tr style=\"text-align: right;\">\n",
       "      <th></th>\n",
       "      <th>headline_text</th>\n",
       "      <th>article_url</th>\n",
       "      <th>article_preview</th>\n",
       "      <th>date</th>\n",
       "      <th>author</th>\n",
       "    </tr>\n",
       "  </thead>\n",
       "  <tbody>\n",
       "    <tr>\n",
       "      <th>0</th>\n",
       "      <td>Christie Brinkley, 67, and her model daughter ...</td>\n",
       "      <td>/tvshowbiz/article-10394933/Christie-Brinkley-...</td>\n",
       "      <td>The famed 67-year-old model and her stunning l...</td>\n",
       "      <td>\\n\\n        January 12th 2022, 5:36:20 pm\\n</td>\n",
       "      <td>Sarah Abraham For Dailymail.com</td>\n",
       "    </tr>\n",
       "    <tr>\n",
       "      <th>1</th>\n",
       "      <td>Brooke Burke, 50, shows off her toned tummy in...</td>\n",
       "      <td>/tvshowbiz/article-10394971/Brooke-Burke-50-sh...</td>\n",
       "      <td>Brooke Burke is showing off her toned body in ...</td>\n",
       "      <td>\\n\\n        January 12th 2022, 5:21:03 pm\\n</td>\n",
       "      <td>Janelle Ash For Dailymail.Com</td>\n",
       "    </tr>\n",
       "    <tr>\n",
       "      <th>2</th>\n",
       "      <td>Gwyneth Paltrow trades the heels for shearling...</td>\n",
       "      <td>/tvshowbiz/article-10395215/Gwyneth-Paltrow-tr...</td>\n",
       "      <td>The actress, 49, was spotted resting on the se...</td>\n",
       "      <td>\\n\\n        January 12th 2022, 5:20:26 pm\\n</td>\n",
       "      <td>Christine Rendon For Dailymail.com</td>\n",
       "    </tr>\n",
       "    <tr>\n",
       "      <th>3</th>\n",
       "      <td>Move over George Clooney and The Rock! Mark Wa...</td>\n",
       "      <td>/tvshowbiz/article-10394909/Mark-Wahlberg-laun...</td>\n",
       "      <td>The Ted star, 50, has announced his collaborat...</td>\n",
       "      <td>\\n\\n        January 12th 2022, 5:19:00 pm\\n</td>\n",
       "      <td>Heidi Parker For Dailymail.com</td>\n",
       "    </tr>\n",
       "    <tr>\n",
       "      <th>4</th>\n",
       "      <td>Shaun White recalls his hilarious first date w...</td>\n",
       "      <td>/tvshowbiz/article-10395307/Shaun-White-recall...</td>\n",
       "      <td>The pair first met at an event for motivationa...</td>\n",
       "      <td>\\n\\n        January 12th 2022, 5:06:49 pm\\n</td>\n",
       "      <td>Tracy Wright For Dailymail.com</td>\n",
       "    </tr>\n",
       "    <tr>\n",
       "      <th>...</th>\n",
       "      <td>...</td>\n",
       "      <td>...</td>\n",
       "      <td>...</td>\n",
       "      <td>...</td>\n",
       "      <td>...</td>\n",
       "    </tr>\n",
       "    <tr>\n",
       "      <th>19995</th>\n",
       "      <td>EXCLUSIVE: Tom Burgess and fiancée Tahlia Gium...</td>\n",
       "      <td>/tvshowbiz/article-10056065/NRL-star-Tom-Burge...</td>\n",
       "      <td>An exhausted Tom Burgess was spotted out with ...</td>\n",
       "      <td>\\n\\n        October 4th 2021, 7:20:55 am\\n</td>\n",
       "      <td>Demeter Stamell For Daily Mail Australia</td>\n",
       "    </tr>\n",
       "    <tr>\n",
       "      <th>19996</th>\n",
       "      <td>Tony Bennett's wife Susan Benedetto says music...</td>\n",
       "      <td>/tvshowbiz/article-10056111/Tony-Bennetts-wife...</td>\n",
       "      <td>The famed singer, 95, appeared on 60 Minutes S...</td>\n",
       "      <td>\\n\\n        October 4th 2021, 7:04:37 am\\n</td>\n",
       "      <td>Adam S. Levy For Dailymail.com</td>\n",
       "    </tr>\n",
       "    <tr>\n",
       "      <th>19997</th>\n",
       "      <td>Pregnant Lily Rabe is positively glowing as sh...</td>\n",
       "      <td>/tvshowbiz/article-10056105/Lily-Rabe-shows-ba...</td>\n",
       "      <td>Lily Rabe, 39, continued to show off her growi...</td>\n",
       "      <td>\\n\\n        October 4th 2021, 7:00:38 am\\n</td>\n",
       "      <td>Sarah Abraham For Dailymail.com</td>\n",
       "    </tr>\n",
       "    <tr>\n",
       "      <th>19998</th>\n",
       "      <td>Chrissy Teigen dyes her long blonde tresses re...</td>\n",
       "      <td>/tvshowbiz/article-10056023/Chrissy-Teigen-dye...</td>\n",
       "      <td>Chrissy Teigen was in need of a color change o...</td>\n",
       "      <td>\\n\\n        October 4th 2021, 6:57:50 am\\n</td>\n",
       "      <td>Kevin Kayhart For Dailymail.com</td>\n",
       "    </tr>\n",
       "    <tr>\n",
       "      <th>19999</th>\n",
       "      <td>A Musk-read! Grimes sports a cosplay look whil...</td>\n",
       "      <td>/tvshowbiz/article-10056053/Grimes-seen-steppi...</td>\n",
       "      <td>The 33-year-old musician was seen perusing the...</td>\n",
       "      <td>\\n\\n        October 4th 2021, 6:49:57 am\\n</td>\n",
       "      <td>Sam Joseph Semon For Dailymail.com</td>\n",
       "    </tr>\n",
       "  </tbody>\n",
       "</table>\n",
       "<p>19989 rows × 5 columns</p>\n",
       "</div>"
      ],
      "text/plain": [
       "                                           headline_text  \\\n",
       "0      Christie Brinkley, 67, and her model daughter ...   \n",
       "1      Brooke Burke, 50, shows off her toned tummy in...   \n",
       "2      Gwyneth Paltrow trades the heels for shearling...   \n",
       "3      Move over George Clooney and The Rock! Mark Wa...   \n",
       "4      Shaun White recalls his hilarious first date w...   \n",
       "...                                                  ...   \n",
       "19995  EXCLUSIVE: Tom Burgess and fiancée Tahlia Gium...   \n",
       "19996  Tony Bennett's wife Susan Benedetto says music...   \n",
       "19997  Pregnant Lily Rabe is positively glowing as sh...   \n",
       "19998  Chrissy Teigen dyes her long blonde tresses re...   \n",
       "19999  A Musk-read! Grimes sports a cosplay look whil...   \n",
       "\n",
       "                                             article_url  \\\n",
       "0      /tvshowbiz/article-10394933/Christie-Brinkley-...   \n",
       "1      /tvshowbiz/article-10394971/Brooke-Burke-50-sh...   \n",
       "2      /tvshowbiz/article-10395215/Gwyneth-Paltrow-tr...   \n",
       "3      /tvshowbiz/article-10394909/Mark-Wahlberg-laun...   \n",
       "4      /tvshowbiz/article-10395307/Shaun-White-recall...   \n",
       "...                                                  ...   \n",
       "19995  /tvshowbiz/article-10056065/NRL-star-Tom-Burge...   \n",
       "19996  /tvshowbiz/article-10056111/Tony-Bennetts-wife...   \n",
       "19997  /tvshowbiz/article-10056105/Lily-Rabe-shows-ba...   \n",
       "19998  /tvshowbiz/article-10056023/Chrissy-Teigen-dye...   \n",
       "19999  /tvshowbiz/article-10056053/Grimes-seen-steppi...   \n",
       "\n",
       "                                         article_preview  \\\n",
       "0      The famed 67-year-old model and her stunning l...   \n",
       "1      Brooke Burke is showing off her toned body in ...   \n",
       "2      The actress, 49, was spotted resting on the se...   \n",
       "3      The Ted star, 50, has announced his collaborat...   \n",
       "4      The pair first met at an event for motivationa...   \n",
       "...                                                  ...   \n",
       "19995  An exhausted Tom Burgess was spotted out with ...   \n",
       "19996  The famed singer, 95, appeared on 60 Minutes S...   \n",
       "19997  Lily Rabe, 39, continued to show off her growi...   \n",
       "19998  Chrissy Teigen was in need of a color change o...   \n",
       "19999  The 33-year-old musician was seen perusing the...   \n",
       "\n",
       "                                                    date  \\\n",
       "0      \\n\\n        January 12th 2022, 5:36:20 pm\\n         \n",
       "1      \\n\\n        January 12th 2022, 5:21:03 pm\\n         \n",
       "2      \\n\\n        January 12th 2022, 5:20:26 pm\\n         \n",
       "3      \\n\\n        January 12th 2022, 5:19:00 pm\\n         \n",
       "4      \\n\\n        January 12th 2022, 5:06:49 pm\\n         \n",
       "...                                                  ...   \n",
       "19995   \\n\\n        October 4th 2021, 7:20:55 am\\n         \n",
       "19996   \\n\\n        October 4th 2021, 7:04:37 am\\n         \n",
       "19997   \\n\\n        October 4th 2021, 7:00:38 am\\n         \n",
       "19998   \\n\\n        October 4th 2021, 6:57:50 am\\n         \n",
       "19999   \\n\\n        October 4th 2021, 6:49:57 am\\n         \n",
       "\n",
       "                                         author  \n",
       "0               Sarah Abraham For Dailymail.com  \n",
       "1                 Janelle Ash For Dailymail.Com  \n",
       "2            Christine Rendon For Dailymail.com  \n",
       "3                Heidi Parker For Dailymail.com  \n",
       "4                Tracy Wright For Dailymail.com  \n",
       "...                                         ...  \n",
       "19995  Demeter Stamell For Daily Mail Australia  \n",
       "19996            Adam S. Levy For Dailymail.com  \n",
       "19997           Sarah Abraham For Dailymail.com  \n",
       "19998           Kevin Kayhart For Dailymail.com  \n",
       "19999        Sam Joseph Semon For Dailymail.com  \n",
       "\n",
       "[19989 rows x 5 columns]"
      ]
     },
     "execution_count": 109,
     "metadata": {},
     "output_type": "execute_result"
    }
   ],
   "source": [
    "# df.to_csv('saved_headlines/')"
   ]
  },
  {
   "cell_type": "code",
   "execution_count": null,
   "id": "f1b3293c-2fb8-4b51-96d9-22f066824967",
   "metadata": {},
   "outputs": [],
   "source": []
  }
 ],
 "metadata": {
  "kernelspec": {
   "display_name": "Python 3",
   "language": "python",
   "name": "python3"
  },
  "language_info": {
   "codemirror_mode": {
    "name": "ipython",
    "version": 3
   },
   "file_extension": ".py",
   "mimetype": "text/x-python",
   "name": "python",
   "nbconvert_exporter": "python",
   "pygments_lexer": "ipython3",
   "version": "3.8.10"
  }
 },
 "nbformat": 4,
 "nbformat_minor": 5
}
