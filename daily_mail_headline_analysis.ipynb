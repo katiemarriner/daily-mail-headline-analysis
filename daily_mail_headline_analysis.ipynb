{
 "cells": [
  {
   "cell_type": "code",
   "execution_count": 2,
   "id": "3382f0a9-9cf9-4921-84aa-3c8f5c43a5b2",
   "metadata": {},
   "outputs": [],
   "source": [
    "import pandas as pd\n",
    "import requests\n",
    "from bs4 import BeautifulSoup\n",
    "import json\n",
    "import time\n",
    "import os\n",
    "import glob\n",
    "import string\n",
    "import re"
   ]
  },
  {
   "cell_type": "markdown",
   "id": "7bdde4f0-efc6-456d-bad2-a0d08ba850e6",
   "metadata": {},
   "source": [
    "Save all headlines to one file and delete duplicates"
   ]
  },
  {
   "cell_type": "code",
   "execution_count": 3,
   "id": "cf70cdb6-0524-4afa-a340-767672444883",
   "metadata": {},
   "outputs": [],
   "source": [
    "files = glob.glob('saved_headlines/*.csv')"
   ]
  },
  {
   "cell_type": "code",
   "execution_count": 4,
   "id": "1c3959ff-92d9-4e7f-8642-3afe17fd6cc4",
   "metadata": {},
   "outputs": [
    {
     "data": {
      "text/plain": [
       "['saved_headlines/2018-11-13 10:29:15 to 2020-02-05 09:38:59.csv',\n",
       " 'saved_headlines/2022-01-27 18:40:50 to 2022-01-30 22:02:24.csv',\n",
       " 'saved_headlines/2021-10-04 06:49:57 to 2022-01-14 02:18:40.csv',\n",
       " 'saved_headlines/2021-12-31 12:10:16 to 2022-01-20 16:47:50.csv',\n",
       " 'saved_headlines/2020-09-24 21:29:05 to 2021-10-04 06:57:50.csv',\n",
       " 'saved_headlines/2020-02-05 09:14:28 to 2020-09-24 21:37:29.csv',\n",
       " 'saved_headlines/2022-01-25 11:19:20 to 2022-01-27 18:34:12.csv',\n",
       " 'saved_headlines/2022-01-20 16:53:47 to 2022-01-25 22:00:55.csv']"
      ]
     },
     "execution_count": 4,
     "metadata": {},
     "output_type": "execute_result"
    }
   ],
   "source": [
    "files"
   ]
  },
  {
   "cell_type": "code",
   "execution_count": 5,
   "id": "84620ce8-6ab7-45b0-a5dc-ad20464d6fc3",
   "metadata": {},
   "outputs": [],
   "source": [
    "df = pd.concat([pd.read_csv(file) for file in files])"
   ]
  },
  {
   "cell_type": "code",
   "execution_count": 6,
   "id": "17511d98-2249-4444-af76-941cc4a3d967",
   "metadata": {},
   "outputs": [
    {
     "data": {
      "text/plain": [
       "256028"
      ]
     },
     "execution_count": 6,
     "metadata": {},
     "output_type": "execute_result"
    }
   ],
   "source": [
    "len(df)"
   ]
  },
  {
   "cell_type": "code",
   "execution_count": 7,
   "id": "3182cdde-f37c-457b-885d-488450430442",
   "metadata": {},
   "outputs": [],
   "source": [
    "df = df.drop_duplicates()"
   ]
  },
  {
   "cell_type": "code",
   "execution_count": 8,
   "id": "cb1acb3f-77a3-4c47-8582-c6dbbeaa2523",
   "metadata": {},
   "outputs": [
    {
     "data": {
      "text/plain": [
       "253293"
      ]
     },
     "execution_count": 8,
     "metadata": {},
     "output_type": "execute_result"
    }
   ],
   "source": [
    "len(df)"
   ]
  },
  {
   "cell_type": "code",
   "execution_count": 9,
   "id": "0deabadf-4e2a-4b90-ab60-b845c4a837ef",
   "metadata": {},
   "outputs": [],
   "source": [
    "df = df.sort_values('date')"
   ]
  },
  {
   "cell_type": "code",
   "execution_count": 10,
   "id": "3890dd1a-883e-4428-98e3-6e10a39f5d71",
   "metadata": {},
   "outputs": [],
   "source": [
    "start = str(df['date'].min())\n",
    "end = str(df['date'].max())"
   ]
  },
  {
   "cell_type": "code",
   "execution_count": 11,
   "id": "7de2bb79-2edd-4913-95c0-79b0cf570932",
   "metadata": {},
   "outputs": [
    {
     "data": {
      "text/plain": [
       "('2018-11-13 10:29:15', '2022-01-30 22:02:24')"
      ]
     },
     "execution_count": 11,
     "metadata": {},
     "output_type": "execute_result"
    }
   ],
   "source": [
    "start, end"
   ]
  },
  {
   "cell_type": "code",
   "execution_count": 13,
   "id": "85c0b9e8-155b-4cd7-961a-9535cb4f5a74",
   "metadata": {},
   "outputs": [],
   "source": [
    "df.to_csv('complete_headline_list/%s to %s.csv' % (start, end), index=False)"
   ]
  },
  {
   "cell_type": "markdown",
   "id": "551185c2-77e2-4fc4-a81d-47d84d5879de",
   "metadata": {},
   "source": [
    "Clean data"
   ]
  },
  {
   "cell_type": "code",
   "execution_count": 14,
   "id": "660a29bc-c027-4f25-9a29-95a5783b5e50",
   "metadata": {},
   "outputs": [],
   "source": [
    "regex = re.compile('[%s]' % re.escape(string.punctuation))"
   ]
  },
  {
   "cell_type": "code",
   "execution_count": 15,
   "id": "7fdc5aae-1e1a-477e-88a8-8084fd7f958e",
   "metadata": {},
   "outputs": [],
   "source": [
    "def cleaner(df, col, new_col):\n",
    "    df[new_col] = df[col].str.lower()\n",
    "    df[new_col] = df[new_col].str.strip()\n",
    "    df[new_col] = df[new_col].str.replace(regex, '')\n",
    "    df[new_col] = df[new_col].str.strip()\n",
    "    return df"
   ]
  },
  {
   "cell_type": "code",
   "execution_count": 16,
   "id": "8d650c26-d4fb-461f-982c-41acf5f0cae8",
   "metadata": {},
   "outputs": [],
   "source": [
    "df = cleaner(df, 'headline_text', 'headline_clean')"
   ]
  },
  {
   "cell_type": "code",
   "execution_count": 17,
   "id": "52367c53-fc46-42c5-b095-452e68f86ddf",
   "metadata": {},
   "outputs": [],
   "source": [
    "df = cleaner(df, 'article_preview', 'preview_clean')"
   ]
  },
  {
   "cell_type": "code",
   "execution_count": 19,
   "id": "43f5e3a1-df03-479b-9ff4-7fb9f4a33140",
   "metadata": {},
   "outputs": [
    {
     "data": {
      "text/html": [
       "<div>\n",
       "<style scoped>\n",
       "    .dataframe tbody tr th:only-of-type {\n",
       "        vertical-align: middle;\n",
       "    }\n",
       "\n",
       "    .dataframe tbody tr th {\n",
       "        vertical-align: top;\n",
       "    }\n",
       "\n",
       "    .dataframe thead th {\n",
       "        text-align: right;\n",
       "    }\n",
       "</style>\n",
       "<table border=\"1\" class=\"dataframe\">\n",
       "  <thead>\n",
       "    <tr style=\"text-align: right;\">\n",
       "      <th></th>\n",
       "      <th>headline_text</th>\n",
       "      <th>article_url</th>\n",
       "      <th>article_preview</th>\n",
       "      <th>date</th>\n",
       "      <th>author</th>\n",
       "      <th>headline_clean</th>\n",
       "      <th>preview_clean</th>\n",
       "    </tr>\n",
       "  </thead>\n",
       "  <tbody>\n",
       "    <tr>\n",
       "      <th>499</th>\n",
       "      <td>New Zealand actor Pete Smith dead at 63: Star ...</td>\n",
       "      <td>/tvshowbiz/article-10457837/New-Zealand-actor-...</td>\n",
       "      <td>New Zealand actor Pete Smith, who starred in d...</td>\n",
       "      <td>2022-01-30 22:02:24</td>\n",
       "      <td>Mary Mrad For Daily Mail Australia</td>\n",
       "      <td>new zealand actor pete smith dead at 63 star o...</td>\n",
       "      <td>new zealand actor pete smith who starred in dr...</td>\n",
       "    </tr>\n",
       "    <tr>\n",
       "      <th>498</th>\n",
       "      <td>Bindi Irwin says she has 'never worried so muc...</td>\n",
       "      <td>/tvshowbiz/article-10457949/Bindi-talks-mother...</td>\n",
       "      <td>'I've never worried so much in my life, becaus...</td>\n",
       "      <td>2022-01-30 21:52:56</td>\n",
       "      <td>Jo Scrimshire For Daily Mail Australia</td>\n",
       "      <td>bindi irwin says she has never worried so much...</td>\n",
       "      <td>ive never worried so much in my life because i...</td>\n",
       "    </tr>\n",
       "    <tr>\n",
       "      <th>497</th>\n",
       "      <td>Glamorous Australian fashion designer Lïllïan ...</td>\n",
       "      <td>/tvshowbiz/article-10457841/L-ll-Khallouf-welc...</td>\n",
       "      <td>Top Australian fashion designer Lïllïan Khallo...</td>\n",
       "      <td>2022-01-30 21:29:19</td>\n",
       "      <td>Monique Friedlander For Daily Mail Australia</td>\n",
       "      <td>glamorous australian fashion designer lïllïan ...</td>\n",
       "      <td>top australian fashion designer lïllïan khallo...</td>\n",
       "    </tr>\n",
       "    <tr>\n",
       "      <th>496</th>\n",
       "      <td>Dancing On Ice: Paul Gascoigne breaks down in ...</td>\n",
       "      <td>/tvshowbiz/article-10457813/Paul-Gascoigne-bre...</td>\n",
       "      <td>The proud dad has been struggling to hold back...</td>\n",
       "      <td>2022-01-30 21:27:56</td>\n",
       "      <td>Laura Parkin For Mailonline</td>\n",
       "      <td>dancing on ice paul gascoigne breaks down in t...</td>\n",
       "      <td>the proud dad has been struggling to hold back...</td>\n",
       "    </tr>\n",
       "    <tr>\n",
       "      <th>495</th>\n",
       "      <td>Howard Hesseman, who starred in WKRP in Cincin...</td>\n",
       "      <td>/tvshowbiz/article-10457913/Howard-Hesseman-st...</td>\n",
       "      <td>Howard Hesseman, best known for his starring r...</td>\n",
       "      <td>2022-01-30 21:10:20</td>\n",
       "      <td>Ashley Hume For Dailymail.Com</td>\n",
       "      <td>howard hesseman who starred in wkrp in cincinn...</td>\n",
       "      <td>howard hesseman best known for his starring ro...</td>\n",
       "    </tr>\n",
       "    <tr>\n",
       "      <th>...</th>\n",
       "      <td>...</td>\n",
       "      <td>...</td>\n",
       "      <td>...</td>\n",
       "      <td>...</td>\n",
       "      <td>...</td>\n",
       "      <td>...</td>\n",
       "      <td>...</td>\n",
       "    </tr>\n",
       "    <tr>\n",
       "      <th>4</th>\n",
       "      <td>'Do you understand? He got arrested! He went t...</td>\n",
       "      <td>/tvshowbiz/article-6383519/He-got-arrested-Wal...</td>\n",
       "      <td>In April, champion mixed martial artist Conor ...</td>\n",
       "      <td>2018-11-13 11:00:13</td>\n",
       "      <td>Nick Hadley For Daily Mail Australia</td>\n",
       "      <td>do you understand he got arrested he went to j...</td>\n",
       "      <td>in april champion mixed martial artist conor m...</td>\n",
       "    </tr>\n",
       "    <tr>\n",
       "      <th>3</th>\n",
       "      <td>Scarlett Moffatt displays sunburned legs as sh...</td>\n",
       "      <td>/tvshowbiz/article-6383693/Scarlett-Moffatt-lo...</td>\n",
       "      <td>She will spend the next five weeks Down Under ...</td>\n",
       "      <td>2018-11-13 10:53:52</td>\n",
       "      <td>Jessica Green For Mailonline</td>\n",
       "      <td>scarlett moffatt displays sunburned legs as sh...</td>\n",
       "      <td>she will spend the next five weeks down under ...</td>\n",
       "    </tr>\n",
       "    <tr>\n",
       "      <th>2</th>\n",
       "      <td>Sashay away! Sam Smith performs a sassy dance ...</td>\n",
       "      <td>/tvshowbiz/article-6383583/Sam-Smith-dances-Sy...</td>\n",
       "      <td>Sam Smith is currently having the time of his ...</td>\n",
       "      <td>2018-11-13 10:45:44</td>\n",
       "      <td>Joshua Fox For Daily Mail Australia</td>\n",
       "      <td>sashay away sam smith performs a sassy dance r...</td>\n",
       "      <td>sam smith is currently having the time of his ...</td>\n",
       "    </tr>\n",
       "    <tr>\n",
       "      <th>1</th>\n",
       "      <td>Cara Delevingne asked Princess Eugenie for per...</td>\n",
       "      <td>/tvshowbiz/article-6383789/Cara-Delevingne-ask...</td>\n",
       "      <td>The 26-year-old admitted she text her long-tim...</td>\n",
       "      <td>2018-11-13 10:38:14</td>\n",
       "      <td>Ciara Farmer For Mailonline</td>\n",
       "      <td>cara delevingne asked princess eugenie for per...</td>\n",
       "      <td>the 26yearold admitted she text her longtime f...</td>\n",
       "    </tr>\n",
       "    <tr>\n",
       "      <th>0</th>\n",
       "      <td>Calm before the storm: The Bachelorette's Bill...</td>\n",
       "      <td>/tvshowbiz/article-6383357/Bill-Goldsmith-show...</td>\n",
       "      <td>He's made the top three of Ali Oetjen's series...</td>\n",
       "      <td>2018-11-13 10:29:15</td>\n",
       "      <td>Emma Shepherd For Daily Mail Australia</td>\n",
       "      <td>calm before the storm the bachelorettes bill g...</td>\n",
       "      <td>hes made the top three of ali oetjens series o...</td>\n",
       "    </tr>\n",
       "  </tbody>\n",
       "</table>\n",
       "<p>253293 rows × 7 columns</p>\n",
       "</div>"
      ],
      "text/plain": [
       "                                         headline_text  \\\n",
       "499  New Zealand actor Pete Smith dead at 63: Star ...   \n",
       "498  Bindi Irwin says she has 'never worried so muc...   \n",
       "497  Glamorous Australian fashion designer Lïllïan ...   \n",
       "496  Dancing On Ice: Paul Gascoigne breaks down in ...   \n",
       "495  Howard Hesseman, who starred in WKRP in Cincin...   \n",
       "..                                                 ...   \n",
       "4    'Do you understand? He got arrested! He went t...   \n",
       "3    Scarlett Moffatt displays sunburned legs as sh...   \n",
       "2    Sashay away! Sam Smith performs a sassy dance ...   \n",
       "1    Cara Delevingne asked Princess Eugenie for per...   \n",
       "0    Calm before the storm: The Bachelorette's Bill...   \n",
       "\n",
       "                                           article_url  \\\n",
       "499  /tvshowbiz/article-10457837/New-Zealand-actor-...   \n",
       "498  /tvshowbiz/article-10457949/Bindi-talks-mother...   \n",
       "497  /tvshowbiz/article-10457841/L-ll-Khallouf-welc...   \n",
       "496  /tvshowbiz/article-10457813/Paul-Gascoigne-bre...   \n",
       "495  /tvshowbiz/article-10457913/Howard-Hesseman-st...   \n",
       "..                                                 ...   \n",
       "4    /tvshowbiz/article-6383519/He-got-arrested-Wal...   \n",
       "3    /tvshowbiz/article-6383693/Scarlett-Moffatt-lo...   \n",
       "2    /tvshowbiz/article-6383583/Sam-Smith-dances-Sy...   \n",
       "1    /tvshowbiz/article-6383789/Cara-Delevingne-ask...   \n",
       "0    /tvshowbiz/article-6383357/Bill-Goldsmith-show...   \n",
       "\n",
       "                                       article_preview                 date  \\\n",
       "499  New Zealand actor Pete Smith, who starred in d...  2022-01-30 22:02:24   \n",
       "498  'I've never worried so much in my life, becaus...  2022-01-30 21:52:56   \n",
       "497  Top Australian fashion designer Lïllïan Khallo...  2022-01-30 21:29:19   \n",
       "496  The proud dad has been struggling to hold back...  2022-01-30 21:27:56   \n",
       "495  Howard Hesseman, best known for his starring r...  2022-01-30 21:10:20   \n",
       "..                                                 ...                  ...   \n",
       "4    In April, champion mixed martial artist Conor ...  2018-11-13 11:00:13   \n",
       "3    She will spend the next five weeks Down Under ...  2018-11-13 10:53:52   \n",
       "2    Sam Smith is currently having the time of his ...  2018-11-13 10:45:44   \n",
       "1    The 26-year-old admitted she text her long-tim...  2018-11-13 10:38:14   \n",
       "0    He's made the top three of Ali Oetjen's series...  2018-11-13 10:29:15   \n",
       "\n",
       "                                           author  \\\n",
       "499            Mary Mrad For Daily Mail Australia   \n",
       "498        Jo Scrimshire For Daily Mail Australia   \n",
       "497  Monique Friedlander For Daily Mail Australia   \n",
       "496                   Laura Parkin For Mailonline   \n",
       "495                 Ashley Hume For Dailymail.Com   \n",
       "..                                            ...   \n",
       "4            Nick Hadley For Daily Mail Australia   \n",
       "3                    Jessica Green For Mailonline   \n",
       "2             Joshua Fox For Daily Mail Australia   \n",
       "1                     Ciara Farmer For Mailonline   \n",
       "0          Emma Shepherd For Daily Mail Australia   \n",
       "\n",
       "                                        headline_clean  \\\n",
       "499  new zealand actor pete smith dead at 63 star o...   \n",
       "498  bindi irwin says she has never worried so much...   \n",
       "497  glamorous australian fashion designer lïllïan ...   \n",
       "496  dancing on ice paul gascoigne breaks down in t...   \n",
       "495  howard hesseman who starred in wkrp in cincinn...   \n",
       "..                                                 ...   \n",
       "4    do you understand he got arrested he went to j...   \n",
       "3    scarlett moffatt displays sunburned legs as sh...   \n",
       "2    sashay away sam smith performs a sassy dance r...   \n",
       "1    cara delevingne asked princess eugenie for per...   \n",
       "0    calm before the storm the bachelorettes bill g...   \n",
       "\n",
       "                                         preview_clean  \n",
       "499  new zealand actor pete smith who starred in dr...  \n",
       "498  ive never worried so much in my life because i...  \n",
       "497  top australian fashion designer lïllïan khallo...  \n",
       "496  the proud dad has been struggling to hold back...  \n",
       "495  howard hesseman best known for his starring ro...  \n",
       "..                                                 ...  \n",
       "4    in april champion mixed martial artist conor m...  \n",
       "3    she will spend the next five weeks down under ...  \n",
       "2    sam smith is currently having the time of his ...  \n",
       "1    the 26yearold admitted she text her longtime f...  \n",
       "0    hes made the top three of ali oetjens series o...  \n",
       "\n",
       "[253293 rows x 7 columns]"
      ]
     },
     "execution_count": 19,
     "metadata": {},
     "output_type": "execute_result"
    }
   ],
   "source": [
    "df.sort_values('date', ascending=False)"
   ]
  },
  {
   "cell_type": "code",
   "execution_count": null,
   "id": "0f024712-261d-46e3-ba85-303c79a5f0c0",
   "metadata": {},
   "outputs": [],
   "source": []
  }
 ],
 "metadata": {
  "kernelspec": {
   "display_name": "Python 3",
   "language": "python",
   "name": "python3"
  },
  "language_info": {
   "codemirror_mode": {
    "name": "ipython",
    "version": 3
   },
   "file_extension": ".py",
   "mimetype": "text/x-python",
   "name": "python",
   "nbconvert_exporter": "python",
   "pygments_lexer": "ipython3",
   "version": "3.8.10"
  }
 },
 "nbformat": 4,
 "nbformat_minor": 5
}
