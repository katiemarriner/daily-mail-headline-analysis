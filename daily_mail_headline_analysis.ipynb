{
 "cells": [
  {
   "cell_type": "code",
   "execution_count": 19,
   "id": "3382f0a9-9cf9-4921-84aa-3c8f5c43a5b2",
   "metadata": {},
   "outputs": [],
   "source": [
    "import pandas as pd\n",
    "import requests\n",
    "from bs4 import BeautifulSoup\n",
    "import json\n",
    "import time\n",
    "import os\n",
    "import spacy"
   ]
  },
  {
   "cell_type": "code",
   "execution_count": 18,
   "id": "a00af19e-06e5-4e1d-8e6c-16c3aa5a4fa8",
   "metadata": {},
   "outputs": [],
   "source": [
    "# !pip install spacy"
   ]
  },
  {
   "cell_type": "code",
   "execution_count": 21,
   "id": "648cced5-d395-4086-bc84-800e98c72fe8",
   "metadata": {},
   "outputs": [],
   "source": [
    "# !python -m spacy download en_core_web_lg"
   ]
  },
  {
   "cell_type": "code",
   "execution_count": 2,
   "id": "cf70cdb6-0524-4afa-a340-767672444883",
   "metadata": {},
   "outputs": [],
   "source": [
    "files = os.listdir('saved_headlines/')"
   ]
  },
  {
   "cell_type": "code",
   "execution_count": 4,
   "id": "9699275d-38fd-41b3-a998-d87906469eca",
   "metadata": {},
   "outputs": [],
   "source": [
    "files = ['saved_headlines/2021-10-04 06:49:57 to 2022-01-14 02:18:40.csv', 'saved_headlines/2020-09-24 21:29:05 to 2021-10-04 06:57:50.csv']"
   ]
  },
  {
   "cell_type": "code",
   "execution_count": 6,
   "id": "84620ce8-6ab7-45b0-a5dc-ad20464d6fc3",
   "metadata": {},
   "outputs": [],
   "source": [
    "df = pd.concat([pd.read_csv(file) for file in files])"
   ]
  },
  {
   "cell_type": "code",
   "execution_count": 10,
   "id": "17511d98-2249-4444-af76-941cc4a3d967",
   "metadata": {},
   "outputs": [
    {
     "data": {
      "text/plain": [
       "100056"
      ]
     },
     "execution_count": 10,
     "metadata": {},
     "output_type": "execute_result"
    }
   ],
   "source": [
    "len(df)"
   ]
  },
  {
   "cell_type": "code",
   "execution_count": 11,
   "id": "3182cdde-f37c-457b-885d-488450430442",
   "metadata": {},
   "outputs": [],
   "source": [
    "df = df.drop_duplicates()"
   ]
  },
  {
   "cell_type": "code",
   "execution_count": 12,
   "id": "cb1acb3f-77a3-4c47-8582-c6dbbeaa2523",
   "metadata": {},
   "outputs": [
    {
     "data": {
      "text/plain": [
       "100054"
      ]
     },
     "execution_count": 12,
     "metadata": {},
     "output_type": "execute_result"
    }
   ],
   "source": [
    "len(df)"
   ]
  },
  {
   "cell_type": "code",
   "execution_count": 13,
   "id": "24683da4-fb26-4b5d-8cac-66115ce81c6c",
   "metadata": {},
   "outputs": [],
   "source": [
    "df = df.sort_values('date')"
   ]
  },
  {
   "cell_type": "code",
   "execution_count": 14,
   "id": "3890dd1a-883e-4428-98e3-6e10a39f5d71",
   "metadata": {},
   "outputs": [
    {
     "data": {
      "text/html": [
       "<div>\n",
       "<style scoped>\n",
       "    .dataframe tbody tr th:only-of-type {\n",
       "        vertical-align: middle;\n",
       "    }\n",
       "\n",
       "    .dataframe tbody tr th {\n",
       "        vertical-align: top;\n",
       "    }\n",
       "\n",
       "    .dataframe thead th {\n",
       "        text-align: right;\n",
       "    }\n",
       "</style>\n",
       "<table border=\"1\" class=\"dataframe\">\n",
       "  <thead>\n",
       "    <tr style=\"text-align: right;\">\n",
       "      <th></th>\n",
       "      <th>headline_text</th>\n",
       "      <th>article_url</th>\n",
       "      <th>article_preview</th>\n",
       "      <th>date</th>\n",
       "      <th>author</th>\n",
       "    </tr>\n",
       "  </thead>\n",
       "  <tbody>\n",
       "    <tr>\n",
       "      <th>0</th>\n",
       "      <td>EXCLUSIVE: 'I'm looking for love!' Malin Ander...</td>\n",
       "      <td>/tvshowbiz/article-8769597/Malin-Andersson-rev...</td>\n",
       "      <td>Malin Andersson, 27, has revealed that she is ...</td>\n",
       "      <td>2020-09-24 21:29:05</td>\n",
       "      <td>Emily Webber For Mailonline</td>\n",
       "    </tr>\n",
       "    <tr>\n",
       "      <th>1</th>\n",
       "      <td>Pregnant Mandy Moore gets back to work on This...</td>\n",
       "      <td>/tvshowbiz/article-8769899/Pregnant-Mandy-Moor...</td>\n",
       "      <td>A newly pregnant Mandy Moore, 36, shared on In...</td>\n",
       "      <td>2020-09-24 21:37:29</td>\n",
       "      <td>Sarah Abraham For Dailymail.com</td>\n",
       "    </tr>\n",
       "    <tr>\n",
       "      <th>2</th>\n",
       "      <td>Megan McKenna flaunts her tanned physique in a...</td>\n",
       "      <td>/tvshowbiz/article-8770217/Megan-McKenna-flaun...</td>\n",
       "      <td>The ex-TOWIE star, who turns 28 on Saturday, d...</td>\n",
       "      <td>2020-09-24 21:48:44</td>\n",
       "      <td>Laura Fox For Mailonline</td>\n",
       "    </tr>\n",
       "    <tr>\n",
       "      <th>3</th>\n",
       "      <td>'I was taught in the schools and churches of K...</td>\n",
       "      <td>/tvshowbiz/article-8770219/George-Clooney-fire...</td>\n",
       "      <td>George Clooney fired back that he said he was ...</td>\n",
       "      <td>2020-09-24 21:50:05</td>\n",
       "      <td>David Lawrance</td>\n",
       "    </tr>\n",
       "    <tr>\n",
       "      <th>4</th>\n",
       "      <td>Jordyn Woods shares the look of love with new ...</td>\n",
       "      <td>/tvshowbiz/article-8770291/Jordyn-Woods-shares...</td>\n",
       "      <td>The 23-year-old social media star perched at t...</td>\n",
       "      <td>2020-09-24 22:03:29</td>\n",
       "      <td>Tracy Wright For Dailymail.com</td>\n",
       "    </tr>\n",
       "    <tr>\n",
       "      <th>...</th>\n",
       "      <td>...</td>\n",
       "      <td>...</td>\n",
       "      <td>...</td>\n",
       "      <td>...</td>\n",
       "      <td>...</td>\n",
       "    </tr>\n",
       "    <tr>\n",
       "      <th>20340</th>\n",
       "      <td>George Lopez, 60, is seen out for the first ti...</td>\n",
       "      <td>/tvshowbiz/article-10400899/George-Lopez-seen-...</td>\n",
       "      <td>George Lopez was spotted out in Hollywood on T...</td>\n",
       "      <td>2022-01-14 02:06:10</td>\n",
       "      <td>Ashleigh Gray For Dailymail.Com</td>\n",
       "    </tr>\n",
       "    <tr>\n",
       "      <th>20341</th>\n",
       "      <td>BAZ BAMIGBOYE: Outlander star who had a ball i...</td>\n",
       "      <td>/tvshowbiz/article-10400927/BAZ-BAMIGBOYE-Outl...</td>\n",
       "      <td>BAZ BAMIGBOYE: Although Belfast has brought Ca...</td>\n",
       "      <td>2022-01-14 02:08:34</td>\n",
       "      <td>Baz Bamigboye for the Daily Mail</td>\n",
       "    </tr>\n",
       "    <tr>\n",
       "      <th>20342</th>\n",
       "      <td>Larsa Pippen calls her divorce from NBA legend...</td>\n",
       "      <td>/tvshowbiz/article-10400939/Larsa-Pippen-calls...</td>\n",
       "      <td>Larsa Pippen has spoken out about finalizing h...</td>\n",
       "      <td>2022-01-14 02:11:13</td>\n",
       "      <td>Deirdre Simonds For Dailymail.com</td>\n",
       "    </tr>\n",
       "    <tr>\n",
       "      <th>20343</th>\n",
       "      <td>Avril Lavigne reveals her seventh studio album...</td>\n",
       "      <td>/tvshowbiz/article-10400843/Avril-Lavigne-anno...</td>\n",
       "      <td>The 37-year-old singer's project will see her ...</td>\n",
       "      <td>2022-01-14 02:13:07</td>\n",
       "      <td>Sam Joseph Semon For Dailymail.com</td>\n",
       "    </tr>\n",
       "    <tr>\n",
       "      <th>20344</th>\n",
       "      <td>Hailey Bieber cuts a sporty figure in an overs...</td>\n",
       "      <td>/tvshowbiz/article-10401111/Hailey-Bieber-cuts...</td>\n",
       "      <td>Hailey Bieber cut a sporty figure as she ran e...</td>\n",
       "      <td>2022-01-14 02:18:40</td>\n",
       "      <td>Carly Johnson For Dailymail.com</td>\n",
       "    </tr>\n",
       "  </tbody>\n",
       "</table>\n",
       "<p>100054 rows × 5 columns</p>\n",
       "</div>"
      ],
      "text/plain": [
       "                                           headline_text  \\\n",
       "0      EXCLUSIVE: 'I'm looking for love!' Malin Ander...   \n",
       "1      Pregnant Mandy Moore gets back to work on This...   \n",
       "2      Megan McKenna flaunts her tanned physique in a...   \n",
       "3      'I was taught in the schools and churches of K...   \n",
       "4      Jordyn Woods shares the look of love with new ...   \n",
       "...                                                  ...   \n",
       "20340  George Lopez, 60, is seen out for the first ti...   \n",
       "20341  BAZ BAMIGBOYE: Outlander star who had a ball i...   \n",
       "20342  Larsa Pippen calls her divorce from NBA legend...   \n",
       "20343  Avril Lavigne reveals her seventh studio album...   \n",
       "20344  Hailey Bieber cuts a sporty figure in an overs...   \n",
       "\n",
       "                                             article_url  \\\n",
       "0      /tvshowbiz/article-8769597/Malin-Andersson-rev...   \n",
       "1      /tvshowbiz/article-8769899/Pregnant-Mandy-Moor...   \n",
       "2      /tvshowbiz/article-8770217/Megan-McKenna-flaun...   \n",
       "3      /tvshowbiz/article-8770219/George-Clooney-fire...   \n",
       "4      /tvshowbiz/article-8770291/Jordyn-Woods-shares...   \n",
       "...                                                  ...   \n",
       "20340  /tvshowbiz/article-10400899/George-Lopez-seen-...   \n",
       "20341  /tvshowbiz/article-10400927/BAZ-BAMIGBOYE-Outl...   \n",
       "20342  /tvshowbiz/article-10400939/Larsa-Pippen-calls...   \n",
       "20343  /tvshowbiz/article-10400843/Avril-Lavigne-anno...   \n",
       "20344  /tvshowbiz/article-10401111/Hailey-Bieber-cuts...   \n",
       "\n",
       "                                         article_preview                 date  \\\n",
       "0      Malin Andersson, 27, has revealed that she is ...  2020-09-24 21:29:05   \n",
       "1      A newly pregnant Mandy Moore, 36, shared on In...  2020-09-24 21:37:29   \n",
       "2      The ex-TOWIE star, who turns 28 on Saturday, d...  2020-09-24 21:48:44   \n",
       "3      George Clooney fired back that he said he was ...  2020-09-24 21:50:05   \n",
       "4      The 23-year-old social media star perched at t...  2020-09-24 22:03:29   \n",
       "...                                                  ...                  ...   \n",
       "20340  George Lopez was spotted out in Hollywood on T...  2022-01-14 02:06:10   \n",
       "20341  BAZ BAMIGBOYE: Although Belfast has brought Ca...  2022-01-14 02:08:34   \n",
       "20342  Larsa Pippen has spoken out about finalizing h...  2022-01-14 02:11:13   \n",
       "20343  The 37-year-old singer's project will see her ...  2022-01-14 02:13:07   \n",
       "20344  Hailey Bieber cut a sporty figure as she ran e...  2022-01-14 02:18:40   \n",
       "\n",
       "                                   author  \n",
       "0             Emily Webber For Mailonline  \n",
       "1         Sarah Abraham For Dailymail.com  \n",
       "2                Laura Fox For Mailonline  \n",
       "3                          David Lawrance  \n",
       "4          Tracy Wright For Dailymail.com  \n",
       "...                                   ...  \n",
       "20340     Ashleigh Gray For Dailymail.Com  \n",
       "20341    Baz Bamigboye for the Daily Mail  \n",
       "20342   Deirdre Simonds For Dailymail.com  \n",
       "20343  Sam Joseph Semon For Dailymail.com  \n",
       "20344     Carly Johnson For Dailymail.com  \n",
       "\n",
       "[100054 rows x 5 columns]"
      ]
     },
     "execution_count": 14,
     "metadata": {},
     "output_type": "execute_result"
    }
   ],
   "source": [
    "df"
   ]
  },
  {
   "cell_type": "code",
   "execution_count": 95,
   "id": "f7b4bae8-6c0d-4ea4-8c8e-3f99c39dd25e",
   "metadata": {},
   "outputs": [],
   "source": []
  },
  {
   "cell_type": "code",
   "execution_count": 96,
   "id": "6957dec6-7692-4e8f-b23b-fc13f1bc3e99",
   "metadata": {},
   "outputs": [],
   "source": [
    "df['date'] = df['date'].str.strip()"
   ]
  },
  {
   "cell_type": "code",
   "execution_count": 97,
   "id": "d32cf4ac-3b1e-4e97-b630-88aa0ef4ec1b",
   "metadata": {},
   "outputs": [],
   "source": [
    "def replace(old, new):\n",
    "    return df['date'].str.replace(old, new)"
   ]
  },
  {
   "cell_type": "code",
   "execution_count": 98,
   "id": "970cb107-cff9-4c11-8932-49c5a95af327",
   "metadata": {},
   "outputs": [],
   "source": [
    "for i in [['\\n', ''], ['th', ''], ['nd',''], ['rd',''], ['st', ''],['Augu ', 'August ']]:\n",
    "    df['date'] = replace(i[0], i[1])"
   ]
  },
  {
   "cell_type": "code",
   "execution_count": 99,
   "id": "5acbfd27-f61e-434c-8831-e9ce713de663",
   "metadata": {},
   "outputs": [],
   "source": [
    "df['date'] = pd.to_datetime(df['date'], format='%B %d %Y, %I:%M:%S %p')"
   ]
  },
  {
   "cell_type": "code",
   "execution_count": 100,
   "id": "75939092-c85d-48f8-af28-ecd35c4317c7",
   "metadata": {},
   "outputs": [],
   "source": [
    "df = df.sort_values('date')"
   ]
  },
  {
   "cell_type": "code",
   "execution_count": 101,
   "id": "6b06640b-ab0a-4365-b84e-00a869342c7d",
   "metadata": {},
   "outputs": [],
   "source": [
    "start = str(df['date'].min())\n",
    "end = str(df['date'].max())"
   ]
  },
  {
   "cell_type": "code",
   "execution_count": 102,
   "id": "ee86dc2d-9fc9-4c87-9c3a-a53884322d13",
   "metadata": {},
   "outputs": [
    {
     "data": {
      "text/plain": [
       "('2018-11-13 10:29:15', '2020-02-05 09:38:59')"
      ]
     },
     "execution_count": 102,
     "metadata": {},
     "output_type": "execute_result"
    }
   ],
   "source": [
    "start, end"
   ]
  },
  {
   "cell_type": "code",
   "execution_count": 103,
   "id": "85c0b9e8-155b-4cd7-961a-9535cb4f5a74",
   "metadata": {},
   "outputs": [],
   "source": [
    "df.to_csv('saved_headlines/%s to %s.csv' % (start, end), index=False)"
   ]
  },
  {
   "cell_type": "code",
   "execution_count": null,
   "id": "f1b3293c-2fb8-4b51-96d9-22f066824967",
   "metadata": {},
   "outputs": [],
   "source": []
  }
 ],
 "metadata": {
  "kernelspec": {
   "display_name": "Python 3",
   "language": "python",
   "name": "python3"
  },
  "language_info": {
   "codemirror_mode": {
    "name": "ipython",
    "version": 3
   },
   "file_extension": ".py",
   "mimetype": "text/x-python",
   "name": "python",
   "nbconvert_exporter": "python",
   "pygments_lexer": "ipython3",
   "version": "3.8.10"
  }
 },
 "nbformat": 4,
 "nbformat_minor": 5
}
